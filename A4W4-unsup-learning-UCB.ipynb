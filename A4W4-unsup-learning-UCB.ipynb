{
 "cells": [
  {
   "cell_type": "code",
   "execution_count": 2,
   "id": "e2e3f49d-d1db-42be-956d-0343475a9523",
   "metadata": {},
   "outputs": [
    {
     "name": "stderr",
     "output_type": "stream",
     "text": [
      "/Library/Frameworks/Python.framework/Versions/3.12/lib/python3.12/site-packages/tqdm/auto.py:21: TqdmWarning: IProgress not found. Please update jupyter and ipywidgets. See https://ipywidgets.readthedocs.io/en/stable/user_install.html\n",
      "  from .autonotebook import tqdm as notebook_tqdm\n"
     ]
    }
   ],
   "source": [
    "from tensorflow.keras import layers\n",
    "from tensorflow import keras\n",
    "import tensorflow as tf\n",
    "import sklearn\n",
    "from sklearn.model_selection import train_test_split\n",
    "from ast import literal_eval\n",
    "import matplotlib.pyplot as plt\n",
    "import pandas as pd\n",
    "import numpy as np\n",
    "from sklearn.cluster import AgglomerativeClustering, KMeans\n",
    "import itertools\n",
    "import tensorflow_datasets as tfds\n",
    "from scipy.sparse import csr_matrix\n",
    "from sklearn.feature_extraction.text import CountVectorizer, TfidfVectorizer\n"
   ]
  },
  {
   "cell_type": "code",
   "execution_count": 3,
   "id": "cee4755a-90c8-4fcf-9b88-6cab8d46cefe",
   "metadata": {},
   "outputs": [],
   "source": [
    "path = 'learn-ai-bbc'\n",
    "train = pd.read_csv(path+'/BBC News Train.csv')\n",
    "test = pd.read_csv(path+'/BBC News Test.csv')"
   ]
  },
  {
   "cell_type": "code",
   "execution_count": null,
   "id": "f283a5e4-ba47-407f-a96f-4cda9ddb3434",
   "metadata": {},
   "outputs": [],
   "source": [
    "##Exploratory Data Analysis"
   ]
  },
  {
   "cell_type": "code",
   "execution_count": 4,
   "id": "75de1605-7ac4-46c0-bc5e-f0e25b96cfd4",
   "metadata": {},
   "outputs": [
    {
     "data": {
      "text/plain": [
       "5"
      ]
     },
     "execution_count": 4,
     "metadata": {},
     "output_type": "execute_result"
    }
   ],
   "source": [
    "train['Category'].nunique() ## number of  categories"
   ]
  },
  {
   "cell_type": "code",
   "execution_count": 5,
   "id": "8a14b4e2-ca1e-4b95-a58c-6b364cc544cc",
   "metadata": {},
   "outputs": [
    {
     "name": "stdout",
     "output_type": "stream",
     "text": [
      "There are 50 duplicate titles.\n"
     ]
    }
   ],
   "source": [
    "total_duplicate_titles = sum(train[\"Text\"].duplicated())\n",
    "print(f\"There are {total_duplicate_titles} duplicate titles.\")\n"
   ]
  },
  {
   "cell_type": "code",
   "execution_count": 6,
   "id": "c17f0e9e-6618-4c01-8036-19ead5f65528",
   "metadata": {},
   "outputs": [
    {
     "name": "stdout",
     "output_type": "stream",
     "text": [
      "There are 1440 rows in the deduplicated dataset.\n"
     ]
    }
   ],
   "source": [
    "train = train[~train[\"Text\"].duplicated()]\n",
    "print(f\"There are {len(train)} rows in the deduplicated dataset.\")\n"
   ]
  },
  {
   "cell_type": "code",
   "execution_count": 7,
   "id": "db326cd1-d65a-4da9-bd8a-866b6bb27452",
   "metadata": {},
   "outputs": [
    {
     "data": {
      "text/plain": [
       "(array([335.,   0., 234.,   0.,   0., 266.,   0., 342.,   0., 263.]),\n",
       " array([0. , 0.4, 0.8, 1.2, 1.6, 2. , 2.4, 2.8, 3.2, 3.6, 4. ]),\n",
       " <BarContainer object of 10 artists>)"
      ]
     },
     "execution_count": 7,
     "metadata": {},
     "output_type": "execute_result"
    },
    {
     "data": {
      "image/png": "[encoded data removed]",
      "text/plain": [
       "<Figure size 640x480 with 1 Axes>"
      ]
     },
     "metadata": {},
     "output_type": "display_data"
    }
   ],
   "source": [
    "plt.hist(train['Category'])"
   ]
  },
  {
   "cell_type": "code",
   "execution_count": 10,
   "id": "99f13b84-c124-4b9e-a1d8-f6ab842b4f15",
   "metadata": {},
   "outputs": [
    {
     "name": "stdout",
     "output_type": "stream",
     "text": [
      "<class 'pandas.core.frame.DataFrame'>\n",
      "Index: 1296 entries, 1076 to 632\n",
      "Data columns (total 3 columns):\n",
      " #   Column     Non-Null Count  Dtype \n",
      "---  ------     --------------  ----- \n",
      " 0   ArticleId  1296 non-null   int64 \n",
      " 1   Text       1296 non-null   object\n",
      " 2   Category   1296 non-null   object\n",
      "dtypes: int64(1), object(2)\n",
      "memory usage: 40.5+ KB\n"
     ]
    }
   ],
   "source": [
    "train_df.info()"
   ]
  },
  {
   "cell_type": "code",
   "execution_count": 12,
   "id": "35a7ba84-5760-4e59-8e88-d1a5de54de6c",
   "metadata": {},
   "outputs": [
    {
     "data": {
      "text/plain": [
       "count    1296.000000\n",
       "mean      387.431327\n",
       "std       216.583325\n",
       "min        90.000000\n",
       "25%       251.750000\n",
       "50%       340.000000\n",
       "75%       472.500000\n",
       "max      3345.000000\n",
       "Name: Text, dtype: float64"
      ]
     },
     "execution_count": 12,
     "metadata": {},
     "output_type": "execute_result"
    }
   ],
   "source": [
    "train_df[\"Text\"].apply(lambda x: len(x.split())).describe()\n"
   ]
  },
  {
   "cell_type": "code",
   "execution_count": 231,
   "id": "6c0d3b83-9f3c-446e-a099-6c20326667e4",
   "metadata": {},
   "outputs": [],
   "source": [
    "## PERMUTATION CHECK Function as used in week 2\n",
    "pd.set_option('future.no_silent_downcasting', True)\n",
    "def permute_label(yp,label):\n",
    "\n",
    "    k = list(train['Category'].unique())\n",
    "    n = list(range(5))\n",
    "    acc_cop = 0\n",
    "    for i in itertools.permutations(n):\n",
    "        d = dict(zip(k,i))\n",
    "        l =  list(label.astype(str).replace(d,inplace=False))\n",
    "        acc = sklearn.metrics.accuracy_score(l,yp )\n",
    "        if acc_cop< acc:\n",
    "            acc_cop = acc\n",
    "            final_label_order = i\n",
    "    #print(f\"accuracy : {acc_cop}\")\n",
    "    #print(f\"final_label : {final_label_order}\")\n",
    "    return acc_cop,final_label_order\n"
   ]
  },
  {
   "cell_type": "code",
   "execution_count": 233,
   "id": "9cc1b50f-c90c-4c91-b982-c0ac5a3ce684",
   "metadata": {},
   "outputs": [],
   "source": [
    "# Use tf-idf features.\n",
    "tfidf_vectorizer = TfidfVectorizer(\n",
    "    max_df=0.5,\n",
    "    min_df=20,\n",
    "    stop_words=\"english\", \n",
    ")\n",
    "tfidf = tfidf_vectorizer.fit_transform(train.Text)"
   ]
  },
  {
   "cell_type": "markdown",
   "id": "1b819660-53e3-43a0-a1f0-a490e8dee0a6",
   "metadata": {},
   "source": [
    "<em> Only use train data to find the correct label order. But later both will be used as concatenated series."
   ]
  },
  {
   "cell_type": "code",
   "execution_count": 234,
   "id": "8c9fa6d2-23ff-400f-8c85-c6caa8036131",
   "metadata": {},
   "outputs": [
    {
     "name": "stdout",
     "output_type": "stream",
     "text": [
      "accuracy : 0.8756944444444444\n",
      "final_label : (3, 4, 1, 0, 2)\n"
     ]
    }
   ],
   "source": [
    "##model HIERARCHIAL\n",
    "model = AgglomerativeClustering(n_clusters = 5)\n",
    "label_model = model.fit(tfidf.toarray()).labels_\n",
    "label = train['Category']\n",
    "ac, final_label = permute_label(label_model,label)\n",
    "print(f\"accuracy : {ac}\")\n",
    "print(f\"final_label : {final_label}\")\n"
   ]
  },
  {
   "cell_type": "markdown",
   "id": "2a1a40c4-fca4-403f-abf7-9626e611525b",
   "metadata": {},
   "source": [
    "<EM>  Final label is used to calculate the test result. We also append the test dataset to retrain the model as this is unsupervised learning and we can do it to increase the data samples."
   ]
  },
  {
   "cell_type": "code",
   "execution_count": 210,
   "id": "c24c455c-5762-4f0d-bb88-47b087742abb",
   "metadata": {},
   "outputs": [
    {
     "name": "stdout",
     "output_type": "stream",
     "text": [
      "Warning: Your Kaggle API key is readable by other users on this system! To fix this, you can run 'chmod 600 /Users/shaurya/.kaggle/kaggle.json'\n",
      "100%|██████████████████████████████████████| 8.97k/8.97k [00:01<00:00, 8.74kB/s]\n",
      "Successfully submitted to BBC News Classification"
     ]
    }
   ],
   "source": [
    "tfidf = tfidf_vectorizer.fit_transform(pd.concat([train['Text'],test['Text']]))\n",
    "l = model.fit_predict(tfidf.toarray()).astype(str)\n",
    "c=0\n",
    "for i in final_label:\n",
    "    l[l==str(i)] = train.Category.unique()[c]\n",
    "    c+=1\n",
    "test['Category'] = l[1440:]\n",
    "test[['ArticleId','Category']].to_csv('Solution_Agglomerative.csv',index=False)\n",
    "!kaggle competitions submit -c learn-ai-bbc -f Solution_Agglomerative.csv -m \"Message\""
   ]
  },
  {
   "cell_type": "markdown",
   "id": "46da74a1-bd49-4eae-87ab-e78ec245a0f2",
   "metadata": {},
   "source": [
    "<b><center> <Big>TEST SET RESULT only with TRAIN DATA\n",
    "<img src = 'Desktop/Screenshot 2024-05-15 at 5.41.08 AM.png' />\n",
    "<b><center> TEST SET RESULT with TEST DATA\n",
    "<img src = \"Desktop/Screenshot 2024-05-15 at 7.46.20 AM.png\" />\n",
    "\n"
   ]
  },
  {
   "cell_type": "markdown",
   "id": "b2b0476c-74eb-454c-802e-5e88d6f0885d",
   "metadata": {},
   "source": [
    "<em> The result on train set is good. The default metrics (linkage = ward, distance = euclidean)  was the best in week 2 assignment in the course so this is not changed. The test set result is poor but it's a multi-class problem so it is not too bad."
   ]
  },
  {
   "cell_type": "code",
   "execution_count": 235,
   "id": "018dbfc8-a38f-4618-8d7c-ffac7514bb99",
   "metadata": {},
   "outputs": [
    {
     "name": "stdout",
     "output_type": "stream",
     "text": [
      "accuracy 0.9354166666666667\n",
      "final_label (2, 3, 1, 4, 0)\n"
     ]
    }
   ],
   "source": [
    "##MODEL KMEANS\n",
    "# Use tf-idf features for NMF.\n",
    "tfidf_vectorizer = TfidfVectorizer(\n",
    "    max_df=0.5,\n",
    "    min_df=20,\n",
    "    stop_words=\"english\",\n",
    "    max_features = 1000\n",
    ")\n",
    "tfidf = tfidf_vectorizer.fit_transform(train['Text'])\n",
    "l = []\n",
    "for i in range(100):\n",
    "    model = KMeans(n_clusters = 5, random_state = i).fit(tfidf)\n",
    "    label_model = model.labels_\n",
    "    \n",
    "    label = train['Category']\n",
    "    acc, final_label = permute_label(label_model,label)\n",
    "    l.append([acc,final_label,model])\n",
    "    \n",
    "acc,final_label,model = sorted(l, key = lambda x:x[0])[-1]\n",
    "print(f\"accuracy\",acc)\n",
    "print(f\"final_label\",final_label)\n",
    "                                                               "
   ]
  },
  {
   "cell_type": "markdown",
   "id": "66db5f54-b741-4797-babd-e3e8d0c7d1e3",
   "metadata": {},
   "source": [
    "<em> We change the random state as the Kmeans method is giving different results every time. Then we store the best model. The result on the train set is good. The final label is used to calculate the test set result as above and gives us much better result than hierarchial clustering"
   ]
  },
  {
   "cell_type": "code",
   "execution_count": 236,
   "id": "8faa4fde-079e-4f47-8cb8-ed4a95eafc8c",
   "metadata": {},
   "outputs": [
    {
     "name": "stdout",
     "output_type": "stream",
     "text": [
      "Warning: Your Kaggle API key is readable by other users on this system! To fix this, you can run 'chmod 600 /Users/shaurya/.kaggle/kaggle.json'\n",
      "100%|██████████████████████████████████████| 8.96k/8.96k [00:01<00:00, 7.50kB/s]\n",
      "Successfully submitted to BBC News Classification"
     ]
    }
   ],
   "source": [
    "tfidf = tfidf_vectorizer.fit_transform(pd.concat([train['Text'],test['Text']]))\n",
    "l = model.predict(tfidf.toarray()).astype(str)\n",
    "c=0\n",
    "for i in final_label:\n",
    "    l[l==str(i)] = train.Category.unique()[c]\n",
    "    c+=1\n",
    "test['Category'] = l[1440:]\n",
    "test[['ArticleId','Category']].to_csv('Solution_kMeans.csv',index=False)\n",
    "!kaggle competitions submit -c learn-ai-bbc -f Solution_kMeans.csv -m \"Message\""
   ]
  },
  {
   "cell_type": "markdown",
   "id": "c42a6131-a59b-477b-b9b0-30d4f2237691",
   "metadata": {},
   "source": [
    "<b><center> <Big>TEST SET RESULT\n",
    "<img src = \"Desktop/Screenshot 2024-05-15 at 8.07.10 AM.png\"/>"
   ]
  },
  {
   "cell_type": "markdown",
   "id": "1fc6c918-4711-4ac3-9ef9-254445950c49",
   "metadata": {},
   "source": [
    "<em> Both the unsupervised learning methods are similar in performance but Kmeans beats Hierarchial Clustering"
   ]
  },
  {
   "cell_type": "code",
   "execution_count": 150,
   "id": "8645f90c-0c6b-4a8a-a637-e2691aafceda",
   "metadata": {},
   "outputs": [],
   "source": [
    "def nmf_opt(tfidf_vectorizer,df1=None,Train=False):\n",
    "    ## NMF optimizer function \n",
    "\n",
    "    \"\"\"\n",
    "    Parameters: \n",
    "    tfidf_vectorizer is the tfidf feature vector\n",
    "    df1 is the test set  when train = false \n",
    "    and is none when train = True\n",
    "\n",
    "    Return acc, label when train = true\n",
    "    matrix W when df1 = Test\n",
    "    \"\"\"\n",
    "    tfidf = tfidf_vectorizer.fit_transform(df1['Text'])\n",
    "    C = csr_matrix(tfidf)\n",
    "    X = sklearn.decomposition.NMF(n_components=5,solver='mu',init = 'nndsvda',\n",
    "                                   beta_loss=\"kullback-leibler\",alpha_W=0.00005,alpha_H=0.00005,\n",
    "                                  l1_ratio=0.5,random_state =4).fit(C)\n",
    "    W = (X.transform(C))\n",
    "    W = np.array([W[i]==max(W[i]) for i in range(len(df1))])\n",
    "    if Train :\n",
    "        def label_permute_2(yp,Categ):\n",
    "            l =[]\n",
    "            for i in itertools.permutations(train[\"Category\"].unique()):\n",
    "                lookup = tf.keras.layers.StringLookup(vocabulary = i,output_mode=\"one_hot\",num_oov_indices = 0)\n",
    "                label_mh = [lookup(label).numpy() for label in Categ]\n",
    "                l.append([sklearn.metrics.accuracy_score(yp,label_mh),i])\n",
    "                return sorted(l,key = lambda x : x[0])[-1]\n",
    "        out = label_permute_2(W,train['Category'].values)\n",
    "    else:    \n",
    "        out = W\n",
    "    return out"
   ]
  },
  {
   "cell_type": "code",
   "execution_count": 151,
   "id": "a3927fbb-eae4-413f-86ca-d37f7545477c",
   "metadata": {},
   "outputs": [],
   "source": [
    "l = []\n",
    "## Find best parameters\n",
    "for min_df,max_df,max_features in zip(range(1,100),np.arange(1,100)*0.01,np.arange(1,50)*100):\n",
    "    tfidf_vectorizer = TfidfVectorizer(\n",
    "    max_df=max_df,\n",
    "    min_df=min_df,\n",
    "    stop_words=\"english\",\n",
    "    max_features=max_features)\n",
    "    acc, label_order = nmf_opt(tfidf_vectorizer,df1=train,Train=True) \n",
    "    l.append([acc,min_df,max_df,max_features])\n"
   ]
  },
  {
   "cell_type": "code",
   "execution_count": 152,
   "id": "16b8a823-de33-4a73-bf97-d3eb2a5c6ee3",
   "metadata": {},
   "outputs": [
    {
     "name": "stdout",
     "output_type": "stream",
     "text": [
      "Train set -- accuracy, min_df, max_df, max_features : [0.6270833333333333, 11, 0.11, 1100]\n",
      "Label order -- :('business', 'tech', 'politics', 'sport', 'entertainment')\n"
     ]
    }
   ],
   "source": [
    "print(F\"Train set -- accuracy, min_df, max_df, max_features : {sorted(l,key = lambda x :x[0])[-1]}\")\n",
    "print(F\"Label order -- :{label_order}\")"
   ]
  },
  {
   "cell_type": "markdown",
   "id": "84dec936-ccbf-447a-82a0-ca91f58a4700",
   "metadata": {},
   "source": [
    "<em> The result seems sufficient on train set"
   ]
  },
  {
   "cell_type": "code",
   "execution_count": 154,
   "id": "a15c8e5b-22ae-4e41-bfa9-074c1c1d1f90",
   "metadata": {},
   "outputs": [],
   "source": [
    "## Check Test set\n",
    "tfidf_vectorizer = TfidfVectorizer(\n",
    "    max_df=0.11,\n",
    "    min_df=11,\n",
    "    stop_words=\"english\",\n",
    "    max_features=max_features)\n",
    "result = nmf_opt(tfidf_vectorizer,df1 = test)"
   ]
  },
  {
   "cell_type": "code",
   "execution_count": 155,
   "id": "26b149eb-f1c6-498f-a4f5-d0ed04f61883",
   "metadata": {},
   "outputs": [],
   "source": [
    "arr_res = np.array([result[i]==max(result[i]) for i in range(len(result))]).astype(int)"
   ]
  },
  {
   "cell_type": "code",
   "execution_count": 156,
   "id": "ff1d30ec-fe74-4cc9-9fee-059382268daa",
   "metadata": {},
   "outputs": [],
   "source": [
    "yp = [np.take(label_order,np.argwhere(arr_res[i] == 1.0)[..., 0])[0] for i in range(len(result))]"
   ]
  },
  {
   "cell_type": "code",
   "execution_count": 157,
   "id": "06f3c62f-b584-447d-9b06-84fbe3420bbc",
   "metadata": {},
   "outputs": [],
   "source": [
    "test['Category'] = yp"
   ]
  },
  {
   "cell_type": "code",
   "execution_count": 158,
   "id": "c4226f59-704a-4caa-9995-5070d90ac8c9",
   "metadata": {},
   "outputs": [
    {
     "name": "stdout",
     "output_type": "stream",
     "text": [
      "Warning: Your Kaggle API key is readable by other users on this system! To fix this, you can run 'chmod 600 /Users/shaurya/.kaggle/kaggle.json'\n",
      "100%|██████████████████████████████████████| 9.09k/9.09k [00:01<00:00, 8.29kB/s]\n",
      "Successfully submitted to BBC News Classification"
     ]
    }
   ],
   "source": [
    "test[['ArticleId','Category']].to_csv('Solution_NMF.csv',index=False)\n",
    "!kaggle competitions submit -c learn-ai-bbc -f Solution_NMF.csv -m \"Message\""
   ]
  },
  {
   "cell_type": "markdown",
   "id": "c1659c04-da83-4eef-992e-6f0ea80a759b",
   "metadata": {},
   "source": [
    "<b>  <center> <Big>  TEST SET RESULT\n",
    "<img src = \"Desktop/Screenshot 2024-05-15 at 5.35.22 AM.png\" />\n"
   ]
  },
  {
   "cell_type": "code",
   "execution_count": null,
   "id": "4cc99c2c-febf-4fb3-bf3b-a56f2a7ad787",
   "metadata": {},
   "outputs": [],
   "source": [
    "from sklearn.tree import DecisionTreeClassifier\n",
    "from sklearn.metrics import accuracy_score, recall_score"
   ]
  },
  {
   "cell_type": "code",
   "execution_count": 190,
   "id": "f8ecb642-a3f7-4861-bd12-64751df32824",
   "metadata": {},
   "outputs": [
    {
     "name": "stdout",
     "output_type": "stream",
     "text": [
      "max acc, neighbors [1.0, 1]\n",
      " acc, split [0.8715277777777778, 0.1]\n",
      " acc, split [0.9201388888888888, 0.30000000000000004]\n",
      " acc, split [0.9506944444444444, 0.5]\n",
      " acc, split [0.9791666666666666, 0.7000000000000001]\n",
      " acc, split [0.9895833333333334, 0.9]\n"
     ]
    },
    {
     "data": {
      "image/png": "[encoded data removed]",
      "text/plain": [
       "<Figure size 640x480 with 1 Axes>"
      ]
     },
     "metadata": {},
     "output_type": "display_data"
    }
   ],
   "source": [
    "##use KNN on the data\n",
    "tfidf_vectorizer = TfidfVectorizer(\n",
    "    max_df=0.5,\n",
    "    min_df=20,\n",
    "    stop_words=\"english\",\n",
    "    max_features = 1000\n",
    ")\n",
    "tfidf = tfidf_vectorizer.fit_transform(train['Text'])\n",
    "tfidf_test = tfidf_vectorizer.fit_transform(test['Text'])\n",
    "##Check best value of number of nearest neighbors\n",
    "l=[]\n",
    "m=[]\n",
    "for i in range(1,50):\n",
    "    \n",
    "    l.append([accuracy_score(sklearn.neighbors.KNeighborsClassifier(\n",
    "        n_neighbors = i).fit(tfidf,train.Category).predict(tfidf),train.Category),i])\n",
    "    m.append(accuracy_score(sklearn.neighbors.KNeighborsClassifier(\n",
    "        n_neighbors = i).fit(tfidf,train.Category).predict(tfidf),train.Category))\n",
    "print(\"max acc, neighbors\" , (sorted(l,key =lambda x: x[0]))[-1])\n",
    "nn = (sorted(l,key =lambda x: x[0]))[-1][1]\n",
    "##Train splitting accuracy check\n",
    "plt.plot(range(1,50),m)\n",
    "plt.xlabel('Nearest Neighbors')\n",
    "plt.ylabel('Accuracy')\n",
    "plt.title('Accuracy vs number of nearest neighbors')\n",
    "for i in np.arange(1,11,2)*0.1:\n",
    "    model = sklearn.neighbors.KNeighborsClassifier(\n",
    "        n_neighbors = nn).fit(tfidf[:int(1440*i)],train.Category[:int(1440*i)])\n",
    "    \n",
    "    l = ([model.score(tfidf,train.Category),(i)])\n",
    "    print(\" acc, split\" , l)\n",
    "\n",
    "test['Category']= sklearn.neighbors.KNeighborsClassifier(n_neighbors = nn).fit(tfidf,train.Category).predict(tfidf_test)\n",
    "test[['ArticleId','Category']].to_csv('Solution_KNN.csv',index=False)"
   ]
  },
  {
   "cell_type": "markdown",
   "id": "e20c603a-6f7a-4c4a-9100-70cb27e47685",
   "metadata": {},
   "source": [
    "<b> <center> <Big> TEST SET RESULT\n",
    "<img src=\"Desktop/Screenshot 2024-05-15 at 5.32.37 AM.png\"  />\n",
    "\n",
    "\n"
   ]
  },
  {
   "cell_type": "markdown",
   "id": "4523f876-aec7-4352-8f08-ab3c1c9b4b2d",
   "metadata": {},
   "source": [
    "<em> 50% data gives 95% accuracy on train set. The train set accuracy is 100. The test set result is similar to unsupervised learning result"
   ]
  },
  {
   "cell_type": "code",
   "execution_count": 75,
   "id": "ca84d480-6b1b-4e7d-9d97-b9d9e833d0b0",
   "metadata": {},
   "outputs": [
    {
     "name": "stdout",
     "output_type": "stream",
     "text": [
      "acc =  1.0\n"
     ]
    }
   ],
   "source": [
    "##Use Decision Tree\n",
    "from sklearn.tree import DecisionTreeClassifier\n",
    "from sklearn.metrics import accuracy_score, recall_score\n",
    "tfidf_vectorizer = TfidfVectorizer(\n",
    "    max_df=0.5,\n",
    "    min_df=20,\n",
    "    stop_words=\"english\",\n",
    "    max_features = 1000\n",
    ")\n",
    "tfidf = tfidf_vectorizer.fit_transform(train['Text'])\n",
    "tfidf_test = tfidf_vectorizer.fit_transform(test['Text'])\n",
    "def build_dt(X,y,max_depth=None, max_leaf_nodes = None, ccp=0):\n",
    "    clf=DecisionTreeClassifier(random_state=0,max_depth=max_depth,max_leaf_nodes=max_leaf_nodes,ccp_alpha=ccp)\n",
    "    return clf.fit(X,y)\n",
    "clf1 = build_dt(tfidf,train.Category)\n",
    "print('acc = ' , accuracy_score(clf1.predict(tfidf),train.Category))\n",
    "\n",
    "yp = (clf1.predict(tfidf_test))\n",
    "test['Category'] = yp\n",
    "test[['ArticleId','Category']].to_csv(path+'/Solution_clf.csv',index=False)"
   ]
  },
  {
   "cell_type": "code",
   "execution_count": 184,
   "id": "89eca433-f629-4374-9264-f65ce5a2daba",
   "metadata": {},
   "outputs": [
    {
     "name": "stdout",
     "output_type": "stream",
     "text": [
      " acc, split [0.6548611111111111, 0.1]\n",
      " acc, split [0.8173611111111111, 0.30000000000000004]\n",
      " acc, split [0.8847222222222222, 0.5]\n",
      " acc, split [0.9368055555555556, 0.7000000000000001]\n",
      " acc, split [0.9791666666666666, 0.9]\n"
     ]
    }
   ],
   "source": [
    "##Check accuracy by strength of train set splitting\n",
    "for i in np.arange(1,11,2)*0.1:\n",
    "    model = build_dt(tfidf[:int(1440*i)],train.Category[:int(1440*i)])\n",
    "    \n",
    "    l = ([model.score(tfidf,train.Category),(i)])\n",
    "    print(\" acc, split\" , l)"
   ]
  },
  {
   "cell_type": "markdown",
   "id": "066901e3-deed-4a8d-be60-2eed408365e4",
   "metadata": {},
   "source": [
    "<b> <Center> <Big> TEST SET RESULT\n",
    "<img src=\"Desktop/Screenshot 2024-05-15 at 4.07.43 AM.png\"  />\n",
    "\n",
    "\n"
   ]
  },
  {
   "cell_type": "markdown",
   "id": "ffba2f47-27a3-4932-8348-eda977354717",
   "metadata": {},
   "source": [
    "<em> KNN works better than Decision Tree which overfits and uses 90% data to get more than 95% accuracy. The result is a little poor compared to unsupervised learning on the test set. The train set is completely fitted with 100% accuracy"
   ]
  },
  {
   "cell_type": "code",
   "execution_count": null,
   "id": "4c2b9a69-89d1-493f-9eaf-bf5f8d7da111",
   "metadata": {},
   "outputs": [],
   "source": [
    "##Try and apply ccp_pruning but didn't get any change for first six test set result, so aborted.\n",
    "dt = build_dt(tfidf, train.Category)\n",
    "\n",
    "path = dt.cost_complexity_pruning_path(tfidf,train.Category) #post pruning\n",
    "ccp_alphas, impurities = path.ccp_alphas, path.impurities\n",
    "\n",
    "\n",
    "clfs = [] # VECTOR CONTAINING CLASSIFIERS FOR DIFFERENT ALPHAS\n",
    "# TODO: iterate over ccp_alpha values \n",
    "for c in ccp_alphas:\n",
    "    cl=build_dt(tfidf, train.Category,ccp=c)\n",
    "    cl.fit(tfidf, train.Category)\n",
    "    clfs.append(cl)\n",
    "    \n",
    "print(\"Number of nodes in the last tree is: {} with ccp_alpha: {}\".format(\n",
    "      clfs[-1].tree_.node_count, ccp_alphas[-1]))\n",
    "\n",
    "# TODO: next, generate the train and test scores and plot the variation in these scores with increase in ccp_alpha\n",
    "# The code for plotting has been provided; edit the train_scores and test_scores variables for the right plot to be generated\n",
    "train_scores = [cl.score(tfidf,train.Category) for cl in clfs]\n",
    "test_scores = []\n",
    "##CCP pruning Trial does not work here\n",
    "for cl in clfs:\n",
    "    test['Category'] = cl.predict(tfidf_test)\n",
    "    test[['ArticleId','Category']].to_csv('clf.csv',index=False)\n",
    "    !kaggle competitions submit -c learn-ai-bbc -f clf.csv -m \"Message\"\n",
    "    print('enter test acc')\n",
    "    test_scores.append(float(input()))\n",
    "fig, ax = plt.subplots()\n",
    "ax.set_xlabel(\"alpha\")\n",
    "ax.set_ylabel(\"accuracy\")\n",
    "ax.set_title(\"accuracy vs alpha for training and testing sets\")\n",
    "ax.plot(ccp_alphas, train_scores, marker='o', label=\"train\",\n",
    "        drawstyle=\"steps-post\")\n",
    "ax.plot(ccp_alphas, test_scores, marker='o', label=\"test\",\n",
    "        drawstyle=\"steps-post\")\n",
    "ax.legend()\n",
    "plt.show() \n"
   ]
  },
  {
   "cell_type": "markdown",
   "id": "315626bd-cf54-4112-a2de-07ab070b24e5",
   "metadata": {},
   "source": [
    "References:\n",
    "https://scikit-learn.org/stable/auto_examples/applications/plot_topics_extraction_with_nmf_lda.html#sphx-glr-auto-examples-applications-plot-topics-extraction-with-nmf-lda-py"
   ]
  },
  {
   "cell_type": "code",
   "execution_count": null,
   "id": "1cccb1de-2a51-4fdf-b5f0-0b3e44e64180",
   "metadata": {},
   "outputs": [],
   "source": []
  }
 ],
 "metadata": {
  "kernelspec": {
   "display_name": "Python 3 (ipykernel)",
   "language": "python",
   "name": "python3"
  },
  "language_info": {
   "codemirror_mode": {
    "name": "ipython",
    "version": 3
   },
   "file_extension": ".py",
   "mimetype": "text/x-python",
   "name": "python",
   "nbconvert_exporter": "python",
   "pygments_lexer": "ipython3",
   "version": "3.12.3"
  }
 },
 "nbformat": 4,
 "nbformat_minor": 5
}
