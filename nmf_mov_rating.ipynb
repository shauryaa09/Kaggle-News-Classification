{
 "cells": [
  {
   "cell_type": "code",
   "execution_count": null,
   "id": "f0b1e55b-0245-4d27-8f98-09afe7b436e9",
   "metadata": {},
   "outputs": [],
   "source": [
    "import pandas as pd\n",
    "import matplotlib.pyplot as plt\n",
    "import numpy as np\n",
    "import time\n",
    "import sklearn\n",
    "from scipy.sparse import coo_matrix, csr_matrix\n",
    "from scipy.spatial.distance import jaccard, cosine \n",
    "from sklearn.metrics import pairwise_distances\n",
    "from sklearn.decomposition import NMF\n",
    "from pytest import approx"
   ]
  },
  {
   "cell_type": "markdown",
   "id": "880358b8-74e4-4025-85cd-22b57731e87a",
   "metadata": {},
   "source": [
    "<b> <center> <BIG> <BIG> <BIG> PART 1"
   ]
  },
  {
   "cell_type": "markdown",
   "id": "364a9b7d-d78c-404f-90ea-be9b9b908b2e",
   "metadata": {},
   "source": [
    "<em> We factorized the matrix using the number of genres as latent dimension. Then we constructed the sim matrix to get the predictions."
   ]
  },
  {
   "cell_type": "code",
   "execution_count": null,
   "id": "870998e6-12ed-4ffd-9e7d-63a67060d48b",
   "metadata": {
    "editable": true,
    "slideshow": {
     "slide_type": ""
    },
    "tags": []
   },
   "outputs": [],
   "source": [
    "path = 'Downloads/unsupervised/Files/Module3/'\n",
    "MV_users = pd.read_csv(path+'data/users.csv')\n",
    "MV_movies = pd.read_csv(path+'data/movies.csv')\n",
    "train = pd.read_csv(path+'data/train.csv')\n",
    "test = pd.read_csv(path+'data/test.csv')"
   ]
  },
  {
   "cell_type": "code",
   "execution_count": null,
   "id": "52507216-030b-4298-a25b-4dc857671f86",
   "metadata": {},
   "outputs": [],
   "source": [
    "from collections import namedtuple\n",
    "Data = namedtuple('Data', ['users','movies','train','test'])\n",
    "data = Data(MV_users, MV_movies, train, test)"
   ]
  },
  {
   "cell_type": "markdown",
   "id": "34f4cd3c-b214-4ec6-b1fb-a0d504e38737",
   "metadata": {},
   "source": []
  },
  {
   "cell_type": "code",
   "execution_count": 65,
   "id": "f84a5bc9-bded-405b-8672-78f8b9fa026e",
   "metadata": {
    "editable": true,
    "slideshow": {
     "slide_type": ""
    },
    "tags": []
   },
   "outputs": [],
   "source": [
    "class RecSys():\n",
    "    def __init__(self,data):\n",
    "        self.data=data\n",
    "        self.allusers = list(self.data.users['uID'])\n",
    "        self.allmovies = list(self.data.movies['mID'])\n",
    "        self.genres = list(self.data.movies.columns.drop(['mID', 'title', 'year']))\n",
    "        self.mid2idx = dict(zip(self.data.movies.mID,list(range(len(self.data.movies)))))\n",
    "        self.uid2idx = dict(zip(self.data.users.uID,list(range(len(self.data.users)))))\n",
    "        self.Mr=self.rating_matrix()\n",
    "        self.Mm=None \n",
    "        self.sim=np.zeros((len(self.allmovies),len(self.allmovies)))\n",
    "        \n",
    "    def rating_matrix(self):\n",
    "        \"\"\"\n",
    "        Convert the rating matrix to numpy array of shape (#allusers,#allmovies)\n",
    "        \"\"\"\n",
    "        ind_movie = [self.mid2idx[x] for x in self.data.train.mID] \n",
    "        ind_user = [self.uid2idx[x] for x in self.data.train.uID]\n",
    "        rating_train = list(self.data.train.rating)\n",
    "        \n",
    "        return np.array(coo_matrix((rating_train, (ind_user, ind_movie)), shape=(len(self.allusers), len(self.allmovies))).toarray())\n",
    "\n",
    "\n",
    "    def predict_everything_to_3(self):\n",
    "        \"\"\"\n",
    "        Predict everything to 3 for the test data\n",
    "        \"\"\"\n",
    "        # Generate an array with 3s against all entries in test dataset\n",
    "        return 3*np.ones(len(self.data.test.rating))\n",
    "        \n",
    "    def predict_to_user_average(self):\n",
    "        \"\"\"\n",
    "        Predict to average rating for the user.\n",
    "        Returns numpy array of shape (#users,)\n",
    "        \"\"\"\n",
    "        # Generate an array as follows:\n",
    "        # 1. Calculate all avg user rating as sum of ratings of user across all movies/number of movies whose rating > 0\n",
    "        # 2. Return the average rating of users in test data\n",
    "        # your code here\n",
    "        t = self.Mr.sum(axis=1)\n",
    "        u = (self.Mr>0).sum(axis=1)\n",
    "        v = t/u\n",
    "        return np.array([v[self.uid2idx[x]] for x in self.data.test.uID])\n",
    "        \n",
    "    def predict_from_sim(self,uid,mid):\n",
    "        \"\"\"\n",
    "        Predict a user rating on a movie given userID and movieID\n",
    "        \"\"\"\n",
    "        # Predict user rating as follows:\n",
    "        # 1. Get entry of user id in rating matrix\n",
    "        # 2. Get entry of movie id in sim matrix\n",
    "        # 3. Employ 1 and 2 to predict user rating of the movie\n",
    "        # your code here\n",
    "        r = self.Mr[self.uid2idx[uid]]\n",
    "        s = self.sim[self.mid2idx[mid]]\n",
    "        idx = np.where(r>0)\n",
    "        return np.dot(r,s)/(s[idx].sum()+0.01)\n",
    "    def predict(self):\n",
    "        \"\"\"\n",
    "        Predict ratings in the test data. Returns predicted rating in a numpy array of size (# of rows in testdata,)\n",
    "        \"\"\"\n",
    "        # your code here\n",
    "        return np.array([self.predict_from_sim(uid,mid) for (uid,mid) in zip(self.data.test.uID,self.data.test.mID)])\n",
    "        \n",
    "    \n",
    "    def rmse(self,yp):\n",
    "        yp[np.isnan(yp)]=3 #In case there is nan values in prediction, it will impute to 3.\n",
    "        yt=np.array(self.data.test.rating)\n",
    "        return np.sqrt(((yt-yp)**2).mean())\n",
    "\n",
    "    def Nmf(self):\n",
    "        C = csr_matrix(self.Mr.T)\n",
    "        X = NMF(n_components=len(self.genres),solver='mu',\n",
    "                                   beta_loss=\"frobenius\",alpha_W=0.00005,alpha_H=0.00005,l1_ratio=0.5,).fit(C)\n",
    "        W = X.transform(C)\n",
    "        return W\n",
    "    def calc_item_item_similarity(self):\n",
    "        \"\"\"\n",
    "        Create item-item similarity using Jaccard similarity\n",
    "        \"\"\"\n",
    "        # Update the sim matrix by calculating item-item similarity using Jaccard similarity\n",
    "        # Jaccard Similarity: J(A, B) = |A∩B| / |A∪B| \n",
    "        ##CONVERT TO BOOLEAN ARRAY By comparing mean value and then use jaccardian\n",
    "        arr_MM = self.Nmf()\n",
    "        arr_bool = np.array([arr_MM[i]>arr_MM[i].mean() for i in range(len(arr_MM))])\n",
    "        self.sim = 1 - pairwise_distances(arr_bool, metric=\"jaccard\")\n",
    "    \n",
    "    "
   ]
  },
  {
   "cell_type": "code",
   "execution_count": 66,
   "id": "7f707015-1284-488e-8525-88bc24a39853",
   "metadata": {},
   "outputs": [
    {
     "name": "stdout",
     "output_type": "stream",
     "text": [
      "0.9698748083035741\n"
     ]
    },
    {
     "data": {
      "text/plain": [
       "3.558746929352515"
      ]
     },
     "execution_count": 66,
     "metadata": {},
     "output_type": "execute_result"
    }
   ],
   "source": [
    "sample_cb = RecSys(data)\n",
    "sample_cb.calc_item_item_similarity()\n",
    "sample_yp = sample_cb.predict()\n",
    "sample_rmse = sample_cb.rmse(sample_yp)\n",
    "print(sample_rmse)\n",
    "sample_cb.predict_from_sim(2026,2436)"
   ]
  },
  {
   "cell_type": "code",
   "execution_count": null,
   "id": "890a3b6d-9605-4e5e-a624-38ff9fec67cf",
   "metadata": {
    "editable": true,
    "slideshow": {
     "slide_type": ""
    },
    "tags": []
   },
   "outputs": [],
   "source": [
    "# for a, b in zip(sample_MV_users.uID, sample_MV_movies.mID):\n",
    "#     print(a, b, sample_cb.predict_from_sim(a,b))\n",
    "\n",
    "# Sample tests for predict_from_sim in RecSys class \n",
    "assert(sample_cb.predict_from_sim(245,276)==approx(2.5128205128205128,abs=1e-2)), \"Check predict_from_sim. Look at how you predicted a user rating on a movie given UserID and movieID.\"\n",
    "assert(sample_cb.predict_from_sim(2026,2436)==approx(2.785714285714286,\n",
    "                                                     abs=1e-2)), \"Check predict_from_sim. Look at how you predicted a user rating on a movie given UserID and movieID.\""
   ]
  },
  {
   "cell_type": "markdown",
   "id": "38e04a6e-4a52-44f5-99a7-5c804531463d",
   "metadata": {},
   "source": [
    "<b> <center> <BIG> <BIG> <BIG> PART 2"
   ]
  },
  {
   "cell_type": "markdown",
   "id": "ee13768e-a9b2-4446-97a5-a4177ab1b440",
   "metadata": {},
   "source": [
    " <em> The result in the RMSE category is better with Nmf but the individual predictions are not so good. RMSE means the root of mean of the total sample error of each data entry. The RMSE is better than those of baseline methods as clearly can be seen."
   ]
  }
 ],
 "metadata": {
  "kernelspec": {
   "display_name": "Python 3 (ipykernel)",
   "language": "python",
   "name": "python3"
  },
  "language_info": {
   "codemirror_mode": {
    "name": "ipython",
    "version": 3
   },
   "file_extension": ".py",
   "mimetype": "text/x-python",
   "name": "python",
   "nbconvert_exporter": "python",
   "pygments_lexer": "ipython3",
   "version": "3.12.3"
  }
 },
 "nbformat": 4,
 "nbformat_minor": 5
}
