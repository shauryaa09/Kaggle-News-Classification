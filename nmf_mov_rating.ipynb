{
 "cells": [
  {
   "cell_type": "code",
   "execution_count": 6,
   "id": "f0b1e55b-0245-4d27-8f98-09afe7b436e9",
   "metadata": {},
   "outputs": [],
   "source": [
    "import pandas as pd\n",
    "import matplotlib.pyplot as plt\n",
    "import numpy as np\n",
    "import time\n",
    "import sklearn\n",
    "from scipy.sparse import coo_matrix, csr_matrix\n",
    "from scipy.spatial.distance import jaccard, cosine \n",
    "from sklearn.metrics import pairwise_distances\n",
    "from sklearn.decomposition import NMF\n",
    "from pytest import approx"
   ]
  },
  {
   "cell_type": "code",
   "execution_count": 16,
   "id": "870998e6-12ed-4ffd-9e7d-63a67060d48b",
   "metadata": {
    "editable": true,
    "slideshow": {
     "slide_type": ""
    },
    "tags": []
   },
   "outputs": [
    {
     "data": {
      "text/plain": [
       "array([4, 5, 3, 2, 1])"
      ]
     },
     "execution_count": 16,
     "metadata": {},
     "output_type": "execute_result"
    }
   ],
   "source": [
    "path = 'Downloads/unsupervised/Files/Module3/'\n",
    "MV_users = pd.read_csv(path+'data/users.csv')\n",
    "MV_movies = pd.read_csv(path+'data/movies.csv')\n",
    "train = pd.read_csv(path+'data/train.csv')\n",
    "test = pd.read_csv(path+'data/test.csv')\n",
    "test.info(),train.info()"
   ]
  },
  {
   "cell_type": "code",
   "execution_count": 8,
   "id": "52507216-030b-4298-a25b-4dc857671f86",
   "metadata": {},
   "outputs": [],
   "source": [
    "from collections import namedtuple\n",
    "Data = namedtuple('Data', ['users','movies','train','test'])\n",
    "data = Data(MV_users, MV_movies, train, test)\n"
   ]
  },
  {
   "cell_type": "markdown",
   "id": "880358b8-74e4-4025-85cd-22b57731e87a",
   "metadata": {},
   "source": [
    "<b> <center> <BIG> <BIG> <BIG> PART 1"
   ]
  },
  {
   "cell_type": "markdown",
   "id": "2193c957-6a7a-45c3-93a3-8d218d16f759",
   "metadata": {},
   "source": [
    "<BIG><BIG><BIG><BIG><BIG><BIG>We will break the Movie rating matrix, self.Mr into components(ets say equal to number of genres) in the W matrix. Then we will multiply W and H\n",
    "back to get an esitmate of movie ratings matrix again, hoping that this might have missing ratings accounted for in a better way. \n",
    "Then we will use this W*H product to predict the test ratings. This gives us a low value of RMSE."
   ]
  },
  {
   "cell_type": "code",
   "execution_count": 46,
   "id": "f84a5bc9-bded-405b-8672-78f8b9fa026e",
   "metadata": {
    "editable": true,
    "slideshow": {
     "slide_type": ""
    },
    "tags": []
   },
   "outputs": [],
   "source": [
    "class RecSys():\n",
    "    def __init__(self,data):\n",
    "        self.data=data\n",
    "        self.allusers = list(self.data.users['uID'])\n",
    "        self.allmovies = list(self.data.movies['mID'])\n",
    "        self.genres = list(self.data.movies.columns.drop(['mID', 'title', 'year']))\n",
    "        self.mid2idx = dict(zip(self.data.movies.mID,list(range(len(self.data.movies)))))\n",
    "        self.uid2idx = dict(zip(self.data.users.uID,list(range(len(self.data.users)))))\n",
    "        self.Mr=self.rating_matrix()\n",
    "        self.Mm=None \n",
    "        self.sim=np.zeros((len(self.allmovies),len(self.allmovies)))\n",
    "        \n",
    "    def rating_matrix(self):\n",
    "        \"\"\"\n",
    "        Convert the rating matrix to numpy array of shape (#allusers,#allmovies)\n",
    "        \"\"\"\n",
    "        ind_movie = [self.mid2idx[x] for x in self.data.train.mID] \n",
    "        ind_user = [self.uid2idx[x] for x in self.data.train.uID]\n",
    "        rating_train = list(self.data.train.rating)\n",
    "        \n",
    "        return  np.array(coo_matrix((rating_train, (ind_user, ind_movie)), shape=(len(self.allusers), len(self.allmovies))).toarray())\n",
    "\n",
    "        \n",
    "    \n",
    "    def Nmf(self):\n",
    "        C = (self.Mr)\n",
    "\n",
    "        X = NMF(n_components=len(self.genres),solver='mu',\n",
    "                                   beta_loss=\"frobenius\",alpha_W=0.00005,alpha_H=0.00005,l1_ratio=0.5,).fit(C)\n",
    "        W = X.transform(C)\n",
    "        H = X.components_\n",
    "        return W@H\n",
    "        \n",
    "    def predict(self):\n",
    "        \"\"\"\n",
    "        Predict ratings in the test data. Returns predicted rating in a numpy array of size (# of rows in testdata,)\n",
    "        \"\"\"\n",
    "        self.Mr = self.Nmf()\n",
    "        \n",
    "        return np.array([self.Mr[self.uid2idx[uid],self.mid2idx[mid]] for (uid,mid) in zip(self.data.test.uID,self.data.test.mID)])\n",
    "        \n",
    "    \n",
    "    def rmse(self,yp):\n",
    "        yp[np.isnan(yp)]=3 #In case there is nan values in prediction, it will impute to 3.\n",
    "        yt=np.array(self.data.test.rating)\n",
    "        return np.sqrt(((yt-yp)**2).mean())\n",
    "\n",
    "    "
   ]
  },
  {
   "cell_type": "code",
   "execution_count": 47,
   "id": "7f707015-1284-488e-8525-88bc24a39853",
   "metadata": {},
   "outputs": [
    {
     "name": "stdout",
     "output_type": "stream",
     "text": [
      "2.868054687603766\n"
     ]
    }
   ],
   "source": [
    "sample_cb = RecSys(data)\n",
    "sample_yp = sample_cb.predict()\n",
    "sample_rmse = sample_cb.rmse(sample_yp)\n",
    "\n",
    "print(sample_rmse)\n"
   ]
  },
  {
   "cell_type": "markdown",
   "id": "38e04a6e-4a52-44f5-99a7-5c804531463d",
   "metadata": {},
   "source": [
    "<b> <center> <BIG> <BIG> PART 2"
   ]
  },
  {
   "cell_type": "markdown",
   "id": "364a9b7d-d78c-404f-90ea-be9b9b908b2e",
   "metadata": {},
   "source": [
    "<BIG><big>\n",
    "<big>\n",
    "This method failed because it is a bad method. Now in part 2:\n",
    " We factorized the matrix using the number of genres as latent dimension. Then we constructed the similarity matrix to get the predictions. This method gives us very good results and an RMSE of 0.97. First the matrix is broken by NMF into a movie matrix of dimension :(len(movies),len(genres)). First this matrix is converted to boolean matrix. Values in this matrix lower than mean are made zero and more than mean made 1. Now, this matrix is converted to similarity matrix of shape (len(movies),len(movies)) by using jaccard similarity as in week 3 assignment. Then everything works the same way as week 3 assignment, i.e., predict_from_sim function is applied on every entry in test data. Finally, RMSE is calculated."
   ]
  },
  {
   "cell_type": "code",
   "execution_count": 48,
   "id": "421663ba-f1eb-491c-85d4-7f73bfcc04fc",
   "metadata": {},
   "outputs": [],
   "source": [
    "class RecSys():\n",
    "    def __init__(self,data):\n",
    "        self.data=data\n",
    "        self.allusers = list(self.data.users['uID'])\n",
    "        self.allmovies = list(self.data.movies['mID'])\n",
    "        self.genres = list(self.data.movies.columns.drop(['mID', 'title', 'year']))\n",
    "        self.mid2idx = dict(zip(self.data.movies.mID,list(range(len(self.data.movies)))))\n",
    "        self.uid2idx = dict(zip(self.data.users.uID,list(range(len(self.data.users)))))\n",
    "        self.Mr=self.rating_matrix()\n",
    "        self.Mm=None \n",
    "        self.sim=np.zeros((len(self.allmovies),len(self.allmovies)))\n",
    "        \n",
    "    def rating_matrix(self):\n",
    "        \"\"\"\n",
    "        Convert the rating matrix to numpy array of shape (#allusers,#allmovies)\n",
    "        \"\"\"\n",
    "        ind_movie = [self.mid2idx[x] for x in self.data.train.mID] \n",
    "        ind_user = [self.uid2idx[x] for x in self.data.train.uID]\n",
    "        rating_train = list(self.data.train.rating)\n",
    "        \n",
    "        return np.array(coo_matrix((rating_train, (ind_user, ind_movie)), shape=(len(self.allusers), len(self.allmovies))).toarray())\n",
    "\n",
    "        \n",
    "    def predict_from_sim(self,uid,mid):\n",
    "        \"\"\"\n",
    "        Predict a user rating on a movie given userID and movieID\n",
    "        \"\"\"\n",
    "        r = self.Mr[self.uid2idx[uid]]\n",
    "        s = self.sim[self.mid2idx[mid]]\n",
    "        idx = np.where(r>0)\n",
    "        return np.dot(r,s)/(s[idx].sum()+0.01)\n",
    "    def predict(self):\n",
    "        \"\"\"\n",
    "        Predict ratings in the test data. Returns predicted rating in a numpy array of size (# of rows in testdata,)\n",
    "        \"\"\"\n",
    "        return np.array([self.predict_from_sim(uid,mid) for (uid,mid) in zip(self.data.test.uID,self.data.test.mID)])\n",
    "        \n",
    "    \n",
    "    def rmse(self,yp):\n",
    "        yp[np.isnan(yp)]=3 #In case there is nan values in prediction, it will impute to 3.\n",
    "        yt=np.array(self.data.test.rating)\n",
    "        return np.sqrt(((yt-yp)**2).mean())\n",
    "\n",
    "    def Nmf(self):\n",
    "        C = csr_matrix(self.Mr.T)\n",
    "        X = NMF(n_components=len(self.genres),solver='mu',\n",
    "                                   beta_loss=\"frobenius\",alpha_W=0.00005,alpha_H=0.00005,l1_ratio=0.5,).fit(C)\n",
    "        W = X.transform(C)\n",
    "        return W\n",
    "    def calc_item_item_similarity(self):\n",
    "        \"\"\"\n",
    "        Create item-item similarity using Jaccard similarity\n",
    "        \"\"\"\n",
    "        ##CONVERT TO BOOLEAN ARRAY By comparing mean value and then use jaccardian\n",
    "        arr_MM = self.Nmf()\n",
    "        arr_bool = np.array([arr_MM[i]>arr_MM[i].mean() for i in range(len(arr_MM))])\n",
    "        self.sim = 1 - pairwise_distances(arr_bool, metric=\"jaccard\")\n",
    "    \n",
    "    "
   ]
  },
  {
   "cell_type": "code",
   "execution_count": 50,
   "id": "5509ca1b-d1c0-41e5-9f7b-7e36a0e9a079",
   "metadata": {},
   "outputs": [
    {
     "name": "stdout",
     "output_type": "stream",
     "text": [
      "0.9706142010871062\n"
     ]
    }
   ],
   "source": [
    "sample_cb = RecSys(data)\n",
    "sample_cb.calc_item_item_similarity()\n",
    "sample_yp = sample_cb.predict()\n",
    "sample_rmse = sample_cb.rmse(sample_yp)\n",
    "\n",
    "print(sample_rmse)\n"
   ]
  },
  {
   "cell_type": "markdown",
   "id": "ee13768e-a9b2-4446-97a5-a4177ab1b440",
   "metadata": {},
   "source": [
    " <BIG><big>\n",
    "<big>\n",
    " We factorized the matrix using the number of genres as latent dimension. Then we constructed the similarity matrix to get the predictions. This method gives us very good results and an RMSE of 0.97. First the matrix is broken by NMF into a movie matrix of dimension :(len(movies),len(genres)). Then this matrix is converted to boolean matrix. Values in this matrix lower than mean are made zero and more than mean made 1. Now, this matrix is converted to similarity matrix of shape (len(movies),len(movies)) by using jaccard similarity as in week 3 assignment. Then everything works the same way as week 3 assignment, i.e., predict_from_sim function is applied on every entry in test data. Finally, RMSE is calculated.\n",
    " The result in the RMSE category is better with Nmf but the individual predictions are not so good. RMSE means the root of mean of the total sample error. The RMSE is better than those of baseline methods as clearly can be seen.\n"
   ]
  },
  {
   "cell_type": "code",
   "execution_count": null,
   "id": "185c8b6e-53d3-47e8-8a2e-87cf003a9139",
   "metadata": {},
   "outputs": [],
   "source": []
  }
 ],
 "metadata": {
  "kernelspec": {
   "display_name": "Python 3 (ipykernel)",
   "language": "python",
   "name": "python3"
  },
  "language_info": {
   "codemirror_mode": {
    "name": "ipython",
    "version": 3
   },
   "file_extension": ".py",
   "mimetype": "text/x-python",
   "name": "python",
   "nbconvert_exporter": "python",
   "pygments_lexer": "ipython3",
   "version": "3.12.3"
  }
 },
 "nbformat": 4,
 "nbformat_minor": 5
}
